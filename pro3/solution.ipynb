{
 "cells": [
  {
   "cell_type": "code",
   "execution_count": 1,
   "metadata": {},
   "outputs": [],
   "source": [
    "import os\n",
    "import sqlite3\n",
    "import warnings\n",
    "\n",
    "import pandas as pd\n",
    "import numpy as np\n",
    "\n",
    "warnings.simplefilter(\"ignore\")"
   ]
  },
  {
   "attachments": {},
   "cell_type": "markdown",
   "metadata": {},
   "source": [
    "## Loading data"
   ]
  },
  {
   "cell_type": "code",
   "execution_count": 2,
   "metadata": {},
   "outputs": [],
   "source": [
    "ROOT_DIR = \"travel_stackexchange_com\"\n",
    "BASE = \"solution.db\"\n",
    "\n",
    "if os.path.exists(BASE):\n",
    "    os.remove(BASE)\n",
    "\n",
    "CONN = sqlite3.connect(BASE)\n",
    "\n",
    "\n",
    "def load_df(df_name, extension=\"csv\", dir=ROOT_DIR, **kwargs):\n",
    "    return pd.read_csv(os.path.join(dir, df_name + \".\" + extension), **kwargs)\n",
    "\n",
    "\n",
    "def load_to_db(df, name, conn=CONN):\n",
    "    df.to_sql(name, conn)\n",
    "\n",
    "\n",
    "def query_db(query, conn=CONN):\n",
    "    return pd.read_sql_query(query, conn)\n",
    "\n",
    "\n",
    "def assert_equal(df1, df2):\n",
    "    assert df1.equals(df2), \"Scores do not match\""
   ]
  },
  {
   "cell_type": "code",
   "execution_count": 3,
   "metadata": {},
   "outputs": [],
   "source": [
    "Posts = load_df(\"Posts\")\n",
    "Users = load_df(\"Users\")\n",
    "Comments = load_df(\"Comments\")"
   ]
  },
  {
   "cell_type": "code",
   "execution_count": 4,
   "metadata": {},
   "outputs": [],
   "source": [
    "load_to_db(Posts, \"Posts\")\n",
    "load_to_db(Users, \"Users\")\n",
    "load_to_db(Comments, \"Comments\")"
   ]
  },
  {
   "attachments": {},
   "cell_type": "markdown",
   "metadata": {},
   "source": [
    "##  Ex 1"
   ]
  },
  {
   "cell_type": "code",
   "execution_count": 5,
   "metadata": {},
   "outputs": [],
   "source": [
    "ex1_query = \"\"\"\n",
    "SELECT Location, SUM(UpVotes) as TotalUpVotes \n",
    "FROM Users\n",
    "WHERE Location != ''\n",
    "GROUP BY Location\n",
    "ORDER BY TotalUpVotes DESC LIMIT 10\n",
    "\"\"\""
   ]
  },
  {
   "cell_type": "code",
   "execution_count": 6,
   "metadata": {},
   "outputs": [],
   "source": [
    "ex1_sql = query_db(ex1_query)"
   ]
  },
  {
   "cell_type": "code",
   "execution_count": 7,
   "metadata": {},
   "outputs": [],
   "source": [
    "ex1_pd = (\n",
    "    Users[Users[\"Location\"] != \"\"]\n",
    "    .groupby(\"Location\")[\"UpVotes\"]\n",
    "    .sum()\n",
    "    .rename(\"TotalUpVotes\")\n",
    "    .sort_values(ascending=False)\n",
    "    .reset_index()\n",
    "    .head(10)\n",
    ")"
   ]
  },
  {
   "cell_type": "code",
   "execution_count": 8,
   "metadata": {},
   "outputs": [],
   "source": [
    "assert_equal(ex1_sql, ex1_pd)"
   ]
  },
  {
   "attachments": {},
   "cell_type": "markdown",
   "metadata": {},
   "source": [
    "## Ex 2"
   ]
  },
  {
   "cell_type": "code",
   "execution_count": 9,
   "metadata": {},
   "outputs": [],
   "source": [
    "ex2_query = \"\"\"\n",
    "SELECT STRFTIME('%Y', CreationDate) AS Year, STRFTIME('%m', CreationDate) AS Month, COUNT(*) AS PostsNumber, MAX(Score) AS MaxScore\n",
    "FROM Posts\n",
    "WHERE PostTypeId IN (1, 2) \n",
    "GROUP BY Year, Month\n",
    "HAVING PostsNumber > 1000\n",
    "\"\"\""
   ]
  },
  {
   "cell_type": "code",
   "execution_count": 10,
   "metadata": {},
   "outputs": [],
   "source": [
    "ex2_sql = query_db(ex2_query)"
   ]
  },
  {
   "cell_type": "code",
   "execution_count": 11,
   "metadata": {},
   "outputs": [],
   "source": [
    "ex2_pd = Posts[Posts[\"PostTypeId\"].isin([1, 2])][[\"CreationDate\", \"Score\"]]\n",
    "\n",
    "CreationDate = pd.to_datetime(ex2_pd[\"CreationDate\"])\n",
    "ex2_pd[\"Year\"] = CreationDate.dt.strftime(\"%Y\")\n",
    "ex2_pd[\"Month\"] = CreationDate.dt.strftime(\"%m\")\n",
    "\n",
    "ex2_pd = ex2_pd.groupby([\"Year\", \"Month\"])\n",
    "MaxScore = ex2_pd[\"Score\"].max().reset_index(drop=True)\n",
    "ex2_pd = ex2_pd[\"Score\"].count().reset_index().rename(columns={\"Score\": \"PostsNumber\"})\n",
    "ex2_pd[\"MaxScore\"] = MaxScore\n",
    "\n",
    "ex2_pd = ex2_pd[ex2_pd[\"PostsNumber\"] > 1000].reset_index(drop=True)"
   ]
  },
  {
   "cell_type": "code",
   "execution_count": 12,
   "metadata": {},
   "outputs": [],
   "source": [
    "assert_equal(ex2_sql, ex2_pd)"
   ]
  },
  {
   "attachments": {},
   "cell_type": "markdown",
   "metadata": {},
   "source": [
    "## Ex 3"
   ]
  },
  {
   "cell_type": "code",
   "execution_count": 13,
   "metadata": {},
   "outputs": [],
   "source": [
    "Questions_query = \"\"\"\n",
    "SELECT OwnerUserId, SUM(ViewCount) as TotalViews\n",
    "FROM Posts\n",
    "WHERE PostTypeId = 1\n",
    "GROUP BY OwnerUserId\n",
    "\"\"\"\n",
    "ex3_query = \"\"\"\n",
    "SELECT Id, DisplayName, TotalViews\n",
    "FROM Questions\n",
    "JOIN Users\n",
    "ON Users.Id = Questions.OwnerUserId\n",
    "ORDER BY TotalViews DESC\n",
    "LIMIT 10\n",
    "\"\"\""
   ]
  },
  {
   "cell_type": "code",
   "execution_count": 14,
   "metadata": {},
   "outputs": [],
   "source": [
    "Questions = query_db(Questions_query)\n",
    "load_to_db(Questions, \"Questions\")\n",
    "ex3_sql = query_db(ex3_query)"
   ]
  },
  {
   "cell_type": "code",
   "execution_count": 15,
   "metadata": {},
   "outputs": [],
   "source": [
    "Questions = (\n",
    "    Posts[Posts[\"PostTypeId\"] == 1][[\"OwnerUserId\", \"ViewCount\"]]\n",
    "    .groupby(\"OwnerUserId\")[\"ViewCount\"]\n",
    "    .sum()\n",
    "    .rename(\"TotalViews\")\n",
    "    .reset_index()\n",
    ")\n",
    "ex3_pd = (\n",
    "    pd.merge(Questions, Users, left_on=\"OwnerUserId\", right_on=\"Id\")[\n",
    "        [\"Id\", \"DisplayName\", \"TotalViews\"]\n",
    "    ]\n",
    "    .sort_values(\"TotalViews\", ascending=False)\n",
    "    .head(10)\n",
    "    .reset_index(drop=True)\n",
    ")"
   ]
  },
  {
   "cell_type": "code",
   "execution_count": 16,
   "metadata": {},
   "outputs": [],
   "source": [
    "assert_equal(ex3_sql, ex3_pd)"
   ]
  },
  {
   "attachments": {},
   "cell_type": "markdown",
   "metadata": {},
   "source": [
    "## Ex 4"
   ]
  },
  {
   "cell_type": "code",
   "execution_count": 17,
   "metadata": {},
   "outputs": [],
   "source": [
    "ex4_query = \"\"\"\n",
    "SELECT DisplayName, QuestionsNumber, AnswersNumber, Location, Reputation, UpVotes, DownVotes\n",
    "FROM (\n",
    "        SELECT * FROM \n",
    "            (\n",
    "                SELECT COUNT(*) as AnswersNumber, OwnerUserId FROM Posts\n",
    "                WHERE PostTypeId = 2\n",
    "                GROUP BY OwnerUserId\n",
    "            ) AS Answers \n",
    "        JOIN\n",
    "            (\n",
    "                SELECT COUNT(*) as QuestionsNumber, OwnerUserId FROM Posts\n",
    "                WHERE PostTypeId = 1\n",
    "                GROUP BY OwnerUserId\n",
    "            ) AS Questions\n",
    "        ON Answers.OwnerUserId = Questions.OwnerUserId \n",
    "        WHERE AnswersNumber > QuestionsNumber\n",
    "        ORDER BY AnswersNumber DESC\n",
    "        LIMIT 5\n",
    "    ) AS PostsCounts \n",
    "JOIN Users\n",
    "ON PostsCounts.OwnerUserId = Users.Id\n",
    "\"\"\""
   ]
  },
  {
   "cell_type": "code",
   "execution_count": 18,
   "metadata": {},
   "outputs": [],
   "source": [
    "ex4_sql = query_db(ex4_query)"
   ]
  },
  {
   "cell_type": "code",
   "execution_count": 19,
   "metadata": {},
   "outputs": [],
   "source": [
    "Answers = (\n",
    "    Posts[Posts[\"PostTypeId\"] == 2]\n",
    "    .groupby(\"OwnerUserId\")[\"OwnerUserId\"]\n",
    "    .count()\n",
    "    .rename(\"AnswersNumber\")\n",
    "    .reset_index()\n",
    ")\n",
    "Questions = (\n",
    "    Posts[Posts[\"PostTypeId\"] == 1]\n",
    "    .groupby(\"OwnerUserId\")[\"OwnerUserId\"]\n",
    "    .count()\n",
    "    .rename(\"QuestionsNumber\")\n",
    "    .reset_index()\n",
    ")\n",
    "PostsCounts = pd.merge(Answers, Questions, on=\"OwnerUserId\")\n",
    "PostsCounts = (\n",
    "    PostsCounts[PostsCounts[\"AnswersNumber\"] > PostsCounts[\"QuestionsNumber\"]]\n",
    "    .sort_values(\"AnswersNumber\", ascending=False)\n",
    "    .head(5)\n",
    "    .reset_index(drop=True)\n",
    ")\n",
    "ex4_pd = pd.merge(PostsCounts, Users, left_on=\"OwnerUserId\", right_on=\"Id\")[\n",
    "    [\n",
    "        \"DisplayName\",\n",
    "        \"QuestionsNumber\",\n",
    "        \"AnswersNumber\",\n",
    "        \"Location\",\n",
    "        \"Reputation\",\n",
    "        \"UpVotes\",\n",
    "        \"DownVotes\",\n",
    "    ]\n",
    "]"
   ]
  },
  {
   "cell_type": "code",
   "execution_count": 20,
   "metadata": {},
   "outputs": [],
   "source": [
    "assert_equal(ex4_sql, ex4_pd)"
   ]
  },
  {
   "attachments": {},
   "cell_type": "markdown",
   "metadata": {},
   "source": [
    "## Ex 5"
   ]
  },
  {
   "cell_type": "code",
   "execution_count": 21,
   "metadata": {},
   "outputs": [],
   "source": [
    "CmtTotScr_query = \"\"\"\n",
    "SELECT PostId, SUM(Score) AS CommentsTotalScore \n",
    "FROM Comments\n",
    "GROUP BY PostId\n",
    "\"\"\"\n",
    "PostsBestComments_query = \"\"\"\n",
    " SELECT Posts.OwnerUserId, Posts.Title, Posts.CommentCount, Posts.ViewCount, CmtTotScr.CommentsTotalScore\n",
    "FROM CmtTotScr\n",
    "JOIN Posts ON Posts.Id = CmtTotScr.PostId \n",
    "WHERE Posts.PostTypeId=1\n",
    "\"\"\"\n",
    "ex5_query = \"\"\"\n",
    "SELECT Title, CommentCount, ViewCount, CommentsTotalScore, DisplayName, Reputation, Location \n",
    "FROM PostsBestComments\n",
    "JOIN Users ON PostsBestComments.OwnerUserId = Users.Id \n",
    "ORDER BY CommentsTotalScore DESC\n",
    "LIMIT 10\n",
    "\"\"\""
   ]
  },
  {
   "cell_type": "code",
   "execution_count": 22,
   "metadata": {},
   "outputs": [],
   "source": [
    "CmtTotScr = query_db(CmtTotScr_query)\n",
    "load_to_db(CmtTotScr, \"CmtTotScr\")\n",
    "PostsBestComments = query_db(PostsBestComments_query)\n",
    "load_to_db(PostsBestComments, \"PostsBestComments\")\n",
    "ex5_sql = query_db(ex5_query)"
   ]
  },
  {
   "cell_type": "code",
   "execution_count": 23,
   "metadata": {},
   "outputs": [],
   "source": [
    "CmtTotScr = (\n",
    "    Comments[[\"PostId\", \"Score\"]]\n",
    "    .groupby(\"PostId\")[\"Score\"]\n",
    "    .sum()\n",
    "    .rename(\"CommentsTotalScore\")\n",
    "    .reset_index()\n",
    ")\n",
    "PostsBestComments = Posts[Posts[\"PostTypeId\"] == 1].merge(\n",
    "    CmtTotScr, left_on=\"Id\", right_on=\"PostId\"\n",
    ")[[\"OwnerUserId\", \"Title\", \"CommentCount\", \"ViewCount\", \"CommentsTotalScore\"]]\n",
    "ex5_pd = (\n",
    "    pd.merge(Users, PostsBestComments, left_on=\"Id\", right_on=\"OwnerUserId\")[\n",
    "        [\n",
    "            \"Title\",\n",
    "            \"CommentCount\",\n",
    "            \"ViewCount\",\n",
    "            \"CommentsTotalScore\",\n",
    "            \"DisplayName\",\n",
    "            \"Reputation\",\n",
    "            \"Location\",\n",
    "        ]\n",
    "    ]\n",
    "    .sort_values(\"CommentsTotalScore\", ascending=False)\n",
    "    .head(10)\n",
    "    .reset_index(drop=True)\n",
    ")"
   ]
  },
  {
   "cell_type": "code",
   "execution_count": 24,
   "metadata": {},
   "outputs": [],
   "source": [
    "assert_equal(ex5_sql, ex5_pd)"
   ]
  },
  {
   "attachments": {},
   "cell_type": "markdown",
   "metadata": {},
   "source": [
    "## Exit actions"
   ]
  },
  {
   "cell_type": "code",
   "execution_count": 25,
   "metadata": {},
   "outputs": [],
   "source": [
    "CONN.close()"
   ]
  }
 ],
 "metadata": {
  "kernelspec": {
   "display_name": "cv",
   "language": "python",
   "name": "python3"
  },
  "language_info": {
   "codemirror_mode": {
    "name": "ipython",
    "version": 3
   },
   "file_extension": ".py",
   "mimetype": "text/x-python",
   "name": "python",
   "nbconvert_exporter": "python",
   "pygments_lexer": "ipython3",
   "version": "3.11.3"
  },
  "orig_nbformat": 4
 },
 "nbformat": 4,
 "nbformat_minor": 2
}
